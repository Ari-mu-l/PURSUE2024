{
 "cells": [
  {
   "cell_type": "markdown",
   "id": "bbb4258a",
   "metadata": {},
   "source": [
    "# Coding Dojo Working Notebook: Plotting Jet Kinematic Variables\n",
    "\n",
    "## Jet Basics\n",
    "<!-- Quick explanation of what jets are and any other relevant information about them -->"
   ]
  },
  {
   "cell_type": "markdown",
   "id": "57c99a3a",
   "metadata": {},
   "source": [
    "## Setup\n",
    "\n",
    "If you do not already have the data, go back to your terminal and do so. (Hint: Look up what `wget` does and how it works.)"
   ]
  },
  {
   "cell_type": "markdown",
   "id": "fdc2d53b",
   "metadata": {},
   "source": [
    "## Instructions\n",
    "For AK4 jets, plot histograms for each of the kinematic variables using the tools specified in the following table.\n",
    "\n",
    "<table>\n",
    "  <tr>\n",
    "    <th>AK4 Jet Kinematic Variable</th>\n",
    "    <th>Tools to Plot With</th>\n",
    "  </tr>\n",
    "  <tr>\n",
    "    <td>Jet eta</td>\n",
    "    <td>PyROOT</td>\n",
    "  </tr>\n",
    "  <tr>\n",
    "    <td>Jet phi</td>\n",
    "    <td>RDataFrame</td>\n",
    "  </tr>\n",
    "  <tr>\n",
    "    <td>Jet pt</td>\n",
    "    <td>Uproot, Hist</td>\n",
    "  </tr>\n",
    "  <tr>\n",
    "    <td>Jet mass</td>\n",
    "    <td>Matplotlib</td>\n",
    "  </tr>\n",
    "</table>\n",
    "\n",
    "If you finish before time is up, there is an extra exercise"
   ]
  },
  {
   "cell_type": "markdown",
   "id": "0011e267",
   "metadata": {},
   "source": [
    "## Hints:\n",
    "1. Check the content of data.root (e.g. What is the name of the TTree?)\n",
    "    - The file contains multipe TTrees\n",
    "    - Only the **first** one is relavent to this exercise\n",
    "2. Check the content of TTree (e.g. What branches does TTree have? What is the branch name of the quantity that we want to plot?)\n",
    "3. Fill a histogram using the branch and draw"
   ]
  },
  {
   "cell_type": "code",
   "execution_count": null,
   "id": "dcef9833",
   "metadata": {},
   "outputs": [],
   "source": [
    "# check the content of data.root:\n"
   ]
  },
  {
   "cell_type": "markdown",
   "id": "469f9fb1",
   "metadata": {},
   "source": [
    "## `PyROOT` for AK4 Jet $\\eta$\n",
    "\n",
    "**To-do**: Plot a histogram for jet $\\eta$ using PyROOT\n",
    "\n",
    "**Link to PyROOT tutorials:** https://github.com/Ari-mu-l/software-carpentry"
   ]
  },
  {
   "cell_type": "markdown",
   "id": "30b49196",
   "metadata": {},
   "source": [
    "Import relavent package(s)"
   ]
  },
  {
   "cell_type": "code",
   "execution_count": 1,
   "id": "eb27a1fe",
   "metadata": {
    "collapsed": true
   },
   "outputs": [
    {
     "name": "stdout",
     "output_type": "stream",
     "text": [
      "Welcome to JupyROOT 6.26/11\n"
     ]
    }
   ],
   "source": [
    "import ROOT"
   ]
  },
  {
   "cell_type": "markdown",
   "id": "bb85fc39",
   "metadata": {},
   "source": [
    "Check the branch names of the ttree and select the desired branch (jet eta)\n",
    "\n",
    "Hint1: Use the Print() function\n",
    "\n",
    "Hint2: We often act on an object with the format of \\<object\\>.\\<some function\\> like hist.Draw()\n",
    "\n",
    "Hint3: If you cannot figure it out, try to google for answers!"
   ]
  },
  {
   "cell_type": "markdown",
   "id": "36819d5e",
   "metadata": {},
   "source": [
    "Create a canvas to plot the histogram\n",
    "- Requirement: Range from -6 to 6. Split into 100 bins."
   ]
  },
  {
   "cell_type": "code",
   "execution_count": null,
   "id": "8474f36e",
   "metadata": {},
   "outputs": [],
   "source": []
  },
  {
   "cell_type": "markdown",
   "id": "446a19b1",
   "metadata": {},
   "source": [
    "Create an empty histogram"
   ]
  },
  {
   "cell_type": "code",
   "execution_count": null,
   "id": "040fdb01",
   "metadata": {},
   "outputs": [],
   "source": []
  },
  {
   "cell_type": "markdown",
   "id": "9fdad09f",
   "metadata": {},
   "source": [
    "Fill the histogram with jet $\\eta$\n",
    "\n",
    "- The code has been written for you.\n",
    "\n",
    "- Read the code and explain what each line is doing with the help of the documentation: https://root.cern.ch/doc/master/classTTree.html .\n",
    "  If it doesn't contain everything you need, use google.\n",
    "\n",
    "- Write it down in this cell (double click to edit) or leave comments in the code:"
   ]
  },
  {
   "cell_type": "code",
   "execution_count": null,
   "id": "61c119ba",
   "metadata": {},
   "outputs": [],
   "source": [
    "nEntries = tree.GetEntries()\n",
    "\n",
    "for i in range(nEntries):\n",
    "    if(tree.GetEntry(i)>0):\n",
    "        for j in range(len(tree.Jet_eta)): # Loop through all the jets in each event\n",
    "             hist.Fill(tree.Jet_eta[j])"
   ]
  },
  {
   "cell_type": "markdown",
   "id": "b82badfe",
   "metadata": {},
   "source": [
    "Draw the histogram on canvas"
   ]
  },
  {
   "cell_type": "code",
   "execution_count": null,
   "id": "854cf178",
   "metadata": {},
   "outputs": [],
   "source": []
  },
  {
   "cell_type": "markdown",
   "id": "1f7bd48c",
   "metadata": {},
   "source": [
    "## `RDataFrame` for AK4 Jet $\\phi$\n",
    "\n",
    "**To-do**: Plot the distribution of jet $\\phi$\n",
    "\n",
    "**Requirement**: the histogram should range from -2 to 2 and have 10 bins\n",
    "\n",
    "**Documentation** of relavent functions: https://root.cern/doc/master/classROOT_1_1RDataFrame.html"
   ]
  },
  {
   "cell_type": "markdown",
   "id": "dc3af14a",
   "metadata": {},
   "source": [
    "Import relavent package (hint: ROOT)"
   ]
  },
  {
   "cell_type": "code",
   "execution_count": null,
   "id": "688db16f",
   "metadata": {},
   "outputs": [],
   "source": []
  },
  {
   "cell_type": "markdown",
   "id": "1df3199c",
   "metadata": {},
   "source": [
    "Load TTree into a RDataFrame (aka create a RDataFrame with the content in TTree)"
   ]
  },
  {
   "cell_type": "code",
   "execution_count": null,
   "id": "b8970a62",
   "metadata": {},
   "outputs": [],
   "source": []
  },
  {
   "cell_type": "markdown",
   "id": "d33c9d48",
   "metadata": {},
   "source": [
    "Check the column names"
   ]
  },
  {
   "cell_type": "code",
   "execution_count": null,
   "id": "b6387126",
   "metadata": {},
   "outputs": [],
   "source": []
  },
  {
   "cell_type": "markdown",
   "id": "b1b3e8d8",
   "metadata": {},
   "source": [
    "Fill a histogram with the desired branch\n",
    "\n",
    "- Requirement: the histogram should range from -2 to 2 and have 10 bins"
   ]
  },
  {
   "cell_type": "code",
   "execution_count": null,
   "id": "3dc8a81a",
   "metadata": {},
   "outputs": [],
   "source": []
  },
  {
   "cell_type": "markdown",
   "id": "d956bf64",
   "metadata": {},
   "source": [
    "Plot histogram"
   ]
  },
  {
   "cell_type": "code",
   "execution_count": null,
   "id": "e863cfc0",
   "metadata": {},
   "outputs": [],
   "source": []
  },
  {
   "cell_type": "markdown",
   "id": "bf05c27c",
   "metadata": {},
   "source": [
    "## `Hist` for AK4 Jet $p_T$"
   ]
  },
  {
   "cell_type": "code",
   "execution_count": null,
   "id": "3c027273",
   "metadata": {},
   "outputs": [],
   "source": [
    "import uproot, hist, awkward"
   ]
  },
  {
   "cell_type": "markdown",
   "id": "ff42daa5",
   "metadata": {},
   "source": [
    "## `Matplotlib` for AK4 Jet mass"
   ]
  },
  {
   "cell_type": "code",
   "execution_count": 1,
   "id": "1aae3f61",
   "metadata": {},
   "outputs": [],
   "source": [
    "import matplotlib.pyplot as plt\n",
    "import numpy as np"
   ]
  }
 ],
 "metadata": {
  "kernelspec": {
   "display_name": "Python 3 (ipykernel)",
   "language": "python",
   "name": "python3"
  },
  "language_info": {
   "codemirror_mode": {
    "name": "ipython",
    "version": 3
   },
   "file_extension": ".py",
   "mimetype": "text/x-python",
   "name": "python",
   "nbconvert_exporter": "python",
   "pygments_lexer": "ipython3",
   "version": "3.9.14"
  }
 },
 "nbformat": 4,
 "nbformat_minor": 5
}
