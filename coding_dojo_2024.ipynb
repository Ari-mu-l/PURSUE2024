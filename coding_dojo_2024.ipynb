{
 "cells": [
  {
   "cell_type": "code",
   "execution_count": null,
   "id": "eb27a1fe",
   "metadata": {},
   "outputs": [],
   "source": [
    "# import packages"
   ]
  },
  {
   "cell_type": "code",
   "execution_count": null,
   "id": "28788ac0",
   "metadata": {},
   "outputs": [],
   "source": [
    "# Note on downloading the rootfile: wget can go in README\n",
    "# Plot Jet_eta with ROOT"
   ]
  },
  {
   "cell_type": "code",
   "execution_count": null,
   "id": "35578665",
   "metadata": {},
   "outputs": [],
   "source": [
    "# Plot Jet_phi with uproot, hist, matplotlib anything in Roy's session"
   ]
  },
  {
   "cell_type": "code",
   "execution_count": null,
   "id": "1aae3f61",
   "metadata": {},
   "outputs": [],
   "source": [
    "# Plot Jet_pt with RDataFrame"
   ]
  },
  {
   "cell_type": "code",
   "execution_count": null,
   "id": "62035115",
   "metadata": {},
   "outputs": [],
   "source": [
    "# Plot Jet_mass with "
   ]
  }
 ],
 "metadata": {
  "kernelspec": {
   "display_name": "Python 3",
   "language": "python",
   "name": "python3"
  },
  "language_info": {
   "codemirror_mode": {
    "name": "ipython",
    "version": 3
   },
   "file_extension": ".py",
   "mimetype": "text/x-python",
   "name": "python",
   "nbconvert_exporter": "python",
   "pygments_lexer": "ipython3",
   "version": "3.9.12"
  }
 },
 "nbformat": 4,
 "nbformat_minor": 5
}
