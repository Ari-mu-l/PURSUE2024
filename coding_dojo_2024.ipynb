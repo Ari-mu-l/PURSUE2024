{
 "cells": [
  {
   "cell_type": "markdown",
   "id": "bbb4258a",
   "metadata": {},
   "source": [
    "# Coding Dojo Working Notebook: Plotting Jet Kinematic Variables\n",
    "\n",
    "## Jet Basics\n",
    "<!-- Quick explanation of what jets are and any other relevant information about them -->"
   ]
  },
  {
   "cell_type": "markdown",
   "id": "57c99a3a",
   "metadata": {},
   "source": [
    "## Setup\n",
    "\n",
    "If you do not already have the data, go back to your terminal and do so. (Hint: Look up what `wget` does and how it works.)"
   ]
  },
  {
   "cell_type": "markdown",
   "id": "fdc2d53b",
   "metadata": {},
   "source": [
    "## Instructions\n",
    "For AK4 jets, plot histograms for each of the kinematic variables using the tools specified in the following table.\n",
    "\n",
    "<table>\n",
    "  <tr>\n",
    "    <th>AK4 Jet Kinematic Variable</th>\n",
    "    <th>Tools to Plot With</th>\n",
    "  </tr>\n",
    "  <tr>\n",
    "    <td>Jet eta</td>\n",
    "    <td>PyROOT</td>\n",
    "  </tr>\n",
    "  <tr>\n",
    "    <td>Jet pt</td>\n",
    "    <td>RDataFrame</td>\n",
    "  </tr>\n",
    "  <tr>\n",
    "    <td>Jet phi</td>\n",
    "    <td>Uproot, Hist</td>\n",
    "  </tr>\n",
    "  <tr>\n",
    "    <td>Jet mass</td>\n",
    "    <td>Matplotlib</td>\n",
    "  </tr>\n",
    "</table>\n",
    "\n",
    "If you finish before time is up, there is an extra exercise"
   ]
  },
  {
   "cell_type": "markdown",
   "id": "469f9fb1",
   "metadata": {},
   "source": [
    "## `PyROOT` for AK4 Jet $\\eta$"
   ]
  },
  {
   "cell_type": "code",
   "execution_count": null,
   "id": "eb27a1fe",
   "metadata": {},
   "outputs": [],
   "source": [
    "import ROOT"
   ]
  },
  {
   "cell_type": "markdown",
   "id": "1f7bd48c",
   "metadata": {},
   "source": [
    "## `RDataFrame` for AK4 Jet $\\phi$"
   ]
  },
  {
   "cell_type": "code",
   "execution_count": null,
   "id": "c636e4d7",
   "metadata": {},
   "outputs": [],
   "source": []
  },
  {
   "cell_type": "markdown",
   "id": "bf05c27c",
   "metadata": {},
   "source": [
    "## `Hist` for AK4 Jet $p_T$"
   ]
  },
  {
   "cell_type": "code",
   "execution_count": null,
   "id": "3c027273",
   "metadata": {},
   "outputs": [],
   "source": [
    "import uproot, hist, awkward"
   ]
  },
  {
   "cell_type": "markdown",
   "id": "ff42daa5",
   "metadata": {},
   "source": [
    "## `Matplotlib` for AK4 Jet mass"
   ]
  },
  {
   "cell_type": "code",
   "execution_count": 1,
   "id": "1aae3f61",
   "metadata": {},
   "outputs": [],
   "source": [
    "import matplotlib.pyplot as plt\n",
    "import numpy as np"
   ]
  }
 ],
 "metadata": {
  "kernelspec": {
   "display_name": "Python 3",
   "language": "python",
   "name": "python3"
  },
  "language_info": {
   "codemirror_mode": {
    "name": "ipython",
    "version": 3
   },
   "file_extension": ".py",
   "mimetype": "text/x-python",
   "name": "python",
   "nbconvert_exporter": "python",
   "pygments_lexer": "ipython3",
   "version": "3.9.14"
  }
 },
 "nbformat": 4,
 "nbformat_minor": 5
}
